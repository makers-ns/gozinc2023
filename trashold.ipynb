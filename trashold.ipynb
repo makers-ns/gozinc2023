{
 "cells": [
  {
   "attachments": {},
   "cell_type": "markdown",
   "metadata": {
    "collapsed": false
   },
   "source": [
    "## Interactive trashold example\n",
    "\n",
    "Imports first ;)"
   ]
  },
  {
   "cell_type": "code",
   "execution_count": null,
   "metadata": {
    "collapsed": false
   },
   "outputs": [],
   "source": [
    "from ipywidgets import interactive\n",
    "import matplotlib.pyplot as plt\n",
    "import numpy as np\n",
    "import cv2 as cv\n",
    "from matplotlib import pyplot as plt"
   ]
  },
  {
   "attachments": {},
   "cell_type": "markdown",
   "metadata": {},
   "source": [
    "# Blurring\n",
    "\n",
    "We should try to work with blurred images."
   ]
  },
  {
   "cell_type": "code",
   "execution_count": null,
   "metadata": {
    "collapsed": false
   },
   "outputs": [],
   "source": [
    "\n",
    "img = cv.imread('./images/walls.jpg')\n",
    "rgbImg = cv.cvtColor(img, cv.COLOR_BGR2RGB)\n",
    "img_gray = cv.cvtColor(img, cv.COLOR_BGR2GRAY)\n",
    "kernel_3x3 = np.ones((3, 3), np.float32) / 9\n",
    "blurred = cv.filter2D(img_gray, -1, kernel_3x3)\n",
    "\n",
    "plt.subplot(131),plt.imshow(rgbImg),plt.title('Maze')\n",
    "plt.subplot(132),plt.title('Maze in Gray'),plt.imshow(img_gray, plt.get_cmap('gray'))\n",
    "plt.subplot(133),plt.title('Blurred'),plt.imshow(blurred, plt.get_cmap('gray'))\n",
    "plt.show()"
   ]
  },
  {
   "attachments": {},
   "cell_type": "markdown",
   "metadata": {},
   "source": [
    "# Interactive Threshold\n",
    "\n",
    "Simple tresholding on a blurred image."
   ]
  },
  {
   "cell_type": "code",
   "execution_count": null,
   "metadata": {
    "collapsed": false,
    "scrolled": false
   },
   "outputs": [],
   "source": [
    "def thres(Value):    \n",
    "    ret,thresh1 = cv.threshold(blurred, Value, 255, cv.THRESH_BINARY)\n",
    "    \n",
    "    plt.imshow(thresh1, plt.get_cmap('gray'))\n",
    "    plt.title(\"Interactive Threshold\")\n",
    "    plt.show()\n",
    "\n",
    "interactive(thres, Value=(1,255,2))"
   ]
  }
 ],
 "metadata": {
  "kernelspec": {
   "display_name": "Python 3",
   "language": "python",
   "name": "python3"
  },
  "language_info": {
   "codemirror_mode": {
    "name": "ipython",
    "version": 3
   },
   "file_extension": ".py",
   "mimetype": "text/x-python",
   "name": "python",
   "nbconvert_exporter": "python",
   "pygments_lexer": "ipython3",
   "version": "3.10.6"
  },
  "widgets": {
   "state": {
    "785b3b575a9a44ba9fcce36cb5675b03": {
     "views": [
      {
       "cell_index": 5
      }
     ]
    },
    "95ae0062095341b9b61faaa75482596c": {
     "views": [
      {
       "cell_index": 7
      }
     ]
    },
    "ac3fed3e75a946068c3b2ffc9e25449f": {
     "views": [
      {
       "cell_index": 1
      }
     ]
    }
   },
   "version": "1.2.0"
  }
 },
 "nbformat": 4,
 "nbformat_minor": 2
}
