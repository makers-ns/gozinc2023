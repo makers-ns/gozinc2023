{
 "cells": [
  {
   "cell_type": "code",
   "execution_count": 9,
   "metadata": {
    "id": "Yx3R0SBwBiJB",
    "tags": []
   },
   "outputs": [],
   "source": [
    "import cv2 as cv\n",
    "from matplotlib import pyplot as plt\n",
    "import ipywidgets as widgets\n",
    "import image\n",
    "import mapa\n",
    "\n",
    "import numpy as np\n",
    "\n",
    "import glob"
   ]
  },
  {
   "cell_type": "code",
   "execution_count": 10,
   "metadata": {
    "tags": []
   },
   "outputs": [],
   "source": [
    "%load_ext autoreload\n",
    "%autoreload 2"
   ]
  },
  {
   "cell_type": "markdown",
   "metadata": {},
   "source": [
    "# Load image, resize and convert"
   ]
  },
  {
   "cell_type": "code",
   "execution_count": 11,
   "metadata": {
    "id": "FctJO_IKCFCH",
    "tags": []
   },
   "outputs": [],
   "source": [
    "img = cv.imread('./images/walls.jpg')\n",
    "img = cv.cvtColor(img, cv.COLOR_BGR2RGB)\n",
    "(img_height, img_width, _) = img.shape\n",
    "img_ratio = 1000 / img_width\n",
    "#img = cv.resize(img, (1000, int(img_height * img_ratio)), interpolation=cv.INTER_AREA)\n",
    "#print('h: {}, w: {}'.format(int(img_height * img_ratio), 1000))\n",
    "print('h: {}, w: {}'.format(img_height, img_width))"
   ]
  },
  {
   "cell_type": "code",
   "execution_count": 14,
   "metadata": {
    "colab": {
     "base_uri": "https://localhost:8080/",
     "height": 623
    },
    "id": "tohOt1oKCsuK",
    "outputId": "81a8be4d-a39c-4b25-c3d0-01c82e629120",
    "tags": []
   },
   "outputs": [],
   "source": [
    "plt.imshow(img)"
   ]
  },
  {
   "cell_type": "code",
   "execution_count": 15,
   "metadata": {
    "tags": []
   },
   "outputs": [],
   "source": [
    "calibration = np.load('rig/calib.npz')"
   ]
  },
  {
   "cell_type": "code",
   "execution_count": 16,
   "metadata": {
    "tags": []
   },
   "outputs": [],
   "source": [
    "mtx = calibration['mtx']\n",
    "dist = calibration['dist']\n",
    "rvecs = calibration['rvecs']\n",
    "tvecs = calibration['tvecs']"
   ]
  },
  {
   "cell_type": "code",
   "execution_count": 17,
   "metadata": {
    "tags": []
   },
   "outputs": [],
   "source": [
    "h, w = img.shape[:2]"
   ]
  },
  {
   "cell_type": "code",
   "execution_count": 18,
   "metadata": {
    "tags": []
   },
   "outputs": [],
   "source": [
    "newCameraMtx, roi = cv.getOptimalNewCameraMatrix(mtx, dist, (w, h), 1, (w, h))"
   ]
  },
  {
   "cell_type": "code",
   "execution_count": 19,
   "metadata": {
    "tags": []
   },
   "outputs": [],
   "source": [
    "undistortedImg = cv.undistort(img, mtx, dist, None, newCameraMtx)"
   ]
  },
  {
   "cell_type": "code",
   "execution_count": 20,
   "metadata": {
    "tags": []
   },
   "outputs": [],
   "source": [
    "plt.imshow(undistortedImg)"
   ]
  },
  {
   "cell_type": "markdown",
   "metadata": {},
   "source": [
    "Plot histograms of color spaces, both rgb and hsv"
   ]
  },
  {
   "cell_type": "code",
   "execution_count": 21,
   "metadata": {
    "tags": []
   },
   "outputs": [],
   "source": [
    "for i, col in enumerate(('r', 'g', 'b')):\n",
    "    hist_color_rgb = cv.calcHist([img], [i], None, [256], [0, 256])\n",
    "    plt.plot(hist_color_rgb, color=col)"
   ]
  },
  {
   "cell_type": "code",
   "execution_count": 22,
   "metadata": {
    "tags": []
   },
   "outputs": [],
   "source": [
    "hsv_img = cv.cvtColor(undistortedImg, cv.COLOR_RGB2HSV)\n",
    "for i, col in enumerate(('r', 'g', 'b')):\n",
    "    hist_color_hsv = cv.calcHist([hsv_img], [i], None, [256], [0, 256])\n",
    "    plt.plot(hist_color_hsv, color=col)"
   ]
  },
  {
   "cell_type": "markdown",
   "metadata": {},
   "source": [
    "# Color tweaking\n",
    "\n",
    "Find parameters for extracting the mask (high and low colors for range limits) using sliders and looking for the best match."
   ]
  },
  {
   "cell_type": "code",
   "execution_count": 23,
   "metadata": {
    "tags": []
   },
   "outputs": [],
   "source": [
    "sliders_low = [widgets.IntSlider(value=0, min=0, max=180 if desc == 'h' else 255, step=1, description=desc) for desc in ('h', 's', 'v')]\n",
    "sliders_high = [widgets.IntSlider(value=0, min=0, max=180 if desc == 'h' else 255, step=1, description=desc) for desc in ('h', 's', 'v')]\n",
    "vbox = widgets.VBox([\n",
    "    widgets.HBox(sliders_low),\n",
    "    widgets.HBox(sliders_high),\n",
    "])\n",
    "vbox"
   ]
  },
  {
   "cell_type": "markdown",
   "metadata": {},
   "source": [
    "Masking function. It diretly modifies the parameter. There is no need to use the return value"
   ]
  },
  {
   "cell_type": "markdown",
   "metadata": {},
   "source": [
    "Function that is called when slider value changes"
   ]
  },
  {
   "cell_type": "code",
   "execution_count": 24,
   "metadata": {
    "tags": []
   },
   "outputs": [],
   "source": [
    "def make_on_change(image):\n",
    "    def on_hsv_change(_):\n",
    "        _mask = cv.inRange(\n",
    "            image,\n",
    "            (int(sliders_low[0].value), int(sliders_low[1].value), int(sliders_low[2].value)),\n",
    "            (int(sliders_high[0].value), int(sliders_high[1].value), int(sliders_high[2].value)),\n",
    "        )\n",
    "        plt.imshow(_mask)\n",
    "    return on_hsv_change"
   ]
  },
  {
   "cell_type": "code",
   "execution_count": 25,
   "metadata": {
    "tags": []
   },
   "outputs": [],
   "source": [
    "make_on_change(None)"
   ]
  },
  {
   "cell_type": "code",
   "execution_count": 26,
   "metadata": {
    "tags": []
   },
   "outputs": [],
   "source": [
    "[slider.observe(make_on_change(hsv_img)) for slider in sliders_low + sliders_high]"
   ]
  },
  {
   "cell_type": "markdown",
   "metadata": {
    "tags": []
   },
   "source": [
    "# Create the mask"
   ]
  },
  {
   "cell_type": "code",
   "execution_count": 27,
   "metadata": {
    "tags": []
   },
   "outputs": [],
   "source": [
    "WHITE_LOWER = (100, 0, 200)\n",
    "WHITE_UPPER = (150, 50, 255)\n",
    "\n",
    "BLUE_LOWER = (100, 190, 150)\n",
    "BLUE_UPPER = (110, 255, 220)"
   ]
  },
  {
   "cell_type": "markdown",
   "metadata": {},
   "source": [
    "# ROI corner finder\n",
    "\n",
    "Find maze corners in specific regions of interest"
   ]
  },
  {
   "cell_type": "markdown",
   "metadata": {},
   "source": [
    " method reference; to index tPlot corners to a new image"
   ]
  },
  {
   "cell_type": "code",
   "execution_count": 28,
   "metadata": {
    "tags": []
   },
   "outputs": [],
   "source": [
    "image_class = image.Image(undistortedImg)\n",
    "image_class.set_areas(\n",
    "    image.Area(50, 150),\n",
    "    image.Area(350, 450),\n",
    "    image.Area(150, 250),\n",
    "    image.Area(450, 550),\n",
    ")\n",
    "image_class.set_origin_points((0, 99), (0, 99))"
   ]
  },
  {
   "cell_type": "code",
   "execution_count": 29,
   "metadata": {
    "tags": []
   },
   "outputs": [],
   "source": [
    "plt.imshow(image_class.img)"
   ]
  },
  {
   "cell_type": "code",
   "execution_count": 30,
   "metadata": {
    "tags": []
   },
   "outputs": [],
   "source": [
    "hsv_class = image_class.rgb_to_hsv()"
   ]
  },
  {
   "cell_type": "code",
   "execution_count": 31,
   "metadata": {
    "tags": []
   },
   "outputs": [],
   "source": [
    "plt.imshow(hsv_class.img)"
   ]
  },
  {
   "cell_type": "code",
   "execution_count": 32,
   "metadata": {
    "tags": []
   },
   "outputs": [],
   "source": [
    "CYAN_LOWER = (85, 205, 190)\n",
    "CYAN_UPPER = (95, 255, 255)"
   ]
  },
  {
   "cell_type": "code",
   "execution_count": 33,
   "metadata": {
    "tags": []
   },
   "outputs": [],
   "source": [
    "mask_class = hsv_class.make_mask(CYAN_LOWER, CYAN_UPPER)"
   ]
  },
  {
   "cell_type": "code",
   "execution_count": 34,
   "metadata": {
    "tags": []
   },
   "outputs": [],
   "source": [
    "plt.imshow(mask_class.img)"
   ]
  },
  {
   "cell_type": "code",
   "execution_count": 35,
   "metadata": {
    "tags": []
   },
   "outputs": [],
   "source": [
    "corners = mask_class.find_corners()"
   ]
  },
  {
   "cell_type": "code",
   "execution_count": 36,
   "metadata": {
    "tags": []
   },
   "outputs": [],
   "source": [
    "corners"
   ]
  },
  {
   "cell_type": "code",
   "execution_count": 37,
   "metadata": {
    "tags": []
   },
   "outputs": [],
   "source": [
    "debug_class = image_class.copy()"
   ]
  },
  {
   "cell_type": "code",
   "execution_count": 38,
   "metadata": {
    "tags": []
   },
   "outputs": [],
   "source": [
    "debug_class.paint_corners(corners)"
   ]
  },
  {
   "cell_type": "code",
   "execution_count": 39,
   "metadata": {
    "tags": []
   },
   "outputs": [],
   "source": [
    "plt.imshow(debug_class.img)"
   ]
  },
  {
   "cell_type": "code",
   "execution_count": 40,
   "metadata": {
    "tags": []
   },
   "outputs": [],
   "source": [
    "fix1_class = image_class.fix_perspective(corners, (10, 10), (24, 24))"
   ]
  },
  {
   "cell_type": "code",
   "execution_count": 41,
   "metadata": {
    "tags": []
   },
   "outputs": [],
   "source": [
    "fix1_class.set_areas(\n",
    "    image.Area(0, 50),\n",
    "    image.Area(250, 300),\n",
    "    image.Area(0, 50),\n",
    "    image.Area(250, 300),\n",
    ")\n",
    "fix1_class.set_origin_points(\n",
    "    (0, 49),\n",
    "    (0, 49),\n",
    ")"
   ]
  },
  {
   "cell_type": "code",
   "execution_count": 42,
   "metadata": {
    "tags": []
   },
   "outputs": [],
   "source": [
    "plt.imshow(fix1_class.img)"
   ]
  },
  {
   "cell_type": "code",
   "execution_count": 43,
   "metadata": {
    "tags": []
   },
   "outputs": [],
   "source": [
    "fix1_mapa = mapa.Mapa.from_image(fix1_class.img, (10, 10), (24, 24))"
   ]
  },
  {
   "cell_type": "code",
   "execution_count": 44,
   "metadata": {
    "tags": []
   },
   "outputs": [],
   "source": [
    "map_image = image.Image.from_map(fix1_mapa)"
   ]
  },
  {
   "cell_type": "code",
   "execution_count": 45,
   "metadata": {
    "tags": []
   },
   "outputs": [],
   "source": [
    "print(fix1_class.img.dtype, fix1_class.img.shape)\n",
    "#print(type(map_image.img))\n",
    "print(map_image.img.dtype, map_image.img.shape)"
   ]
  },
  {
   "cell_type": "code",
   "execution_count": 46,
   "metadata": {
    "tags": []
   },
   "outputs": [],
   "source": [
    "plt.imshow(map_image.img)"
   ]
  },
  {
   "cell_type": "code",
   "execution_count": 47,
   "metadata": {
    "tags": []
   },
   "outputs": [],
   "source": [
    "kmeans_whole = np.float32(fix1_class.img.reshape((-1, 3)))\n",
    "criteria = (cv.TERM_CRITERIA_EPS + cv.TERM_CRITERIA_MAX_ITER, 10, 1.0)\n",
    "n_clusters = 6\n",
    "ret, label, center = cv.kmeans(kmeans_whole, n_clusters, None, criteria, 10, cv.KMEANS_RANDOM_CENTERS)"
   ]
  },
  {
   "cell_type": "code",
   "execution_count": 48,
   "metadata": {
    "tags": []
   },
   "outputs": [],
   "source": [
    "center = np.uint8(center)\n",
    "res = center[label.flatten()]\n",
    "res2 = res.reshape((fix1_class.img.shape))"
   ]
  },
  {
   "cell_type": "code",
   "execution_count": 49,
   "metadata": {
    "tags": []
   },
   "outputs": [],
   "source": [
    "plt.imshow(res2)"
   ]
  },
  {
   "cell_type": "code",
   "execution_count": 50,
   "metadata": {
    "tags": []
   },
   "outputs": [],
   "source": [
    "# WIP: Not for use\n",
    "crop_img = fix1_class.img[10*2:10*3-1, 10*2:10*3-1]\n",
    "kmeans_img = np.float32(crop_img.reshape((-1, 3)))\n",
    "criteria = (cv.TERM_CRITERIA_EPS + cv.TERM_CRITERIA_MAX_ITER, 10, 1.0)\n",
    "n_clusters = 1\n",
    "ret,label,center=cv.kmeans(kmeans_img,n_clusters,None,criteria,10,cv.KMEANS_RANDOM_CENTERS)"
   ]
  },
  {
   "cell_type": "code",
   "execution_count": 51,
   "metadata": {
    "tags": []
   },
   "outputs": [],
   "source": [
    "center = np.uint8(center)\n",
    "res = center[label.flatten()]\n",
    "res2 = res.reshape((crop_img.shape))"
   ]
  },
  {
   "cell_type": "code",
   "execution_count": 52,
   "metadata": {
    "tags": []
   },
   "outputs": [],
   "source": [
    "center"
   ]
  },
  {
   "cell_type": "code",
   "execution_count": 53,
   "metadata": {
    "tags": []
   },
   "outputs": [],
   "source": [
    "plt.imshow(res2)"
   ]
  },
  {
   "cell_type": "code",
   "execution_count": null,
   "metadata": {},
   "outputs": [],
   "source": []
  },
  {
   "cell_type": "code",
   "execution_count": null,
   "metadata": {},
   "outputs": [],
   "source": []
  }
 ],
 "metadata": {
  "colab": {
   "provenance": []
  },
  "kernelspec": {
   "display_name": "Python 3 (ipykernel)",
   "language": "python",
   "name": "python3"
  },
  "language_info": {
   "codemirror_mode": {
    "name": "ipython",
    "version": 3
   },
   "file_extension": ".py",
   "mimetype": "text/x-python",
   "name": "python",
   "nbconvert_exporter": "python",
   "pygments_lexer": "ipython3",
   "version": "3.11.2"
  }
 },
 "nbformat": 4,
 "nbformat_minor": 4
}
