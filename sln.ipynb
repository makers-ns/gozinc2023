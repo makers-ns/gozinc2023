{
  "nbformat": 4,
  "nbformat_minor": 0,
  "metadata": {
    "colab": {
      "provenance": []
    },
    "kernelspec": {
      "name": "python3",
      "display_name": "Python 3"
    },
    "language_info": {
      "name": "python"
    }
  },
  "cells": [
    {
      "cell_type": "code",
      "execution_count": 2,
      "metadata": {
        "id": "xcFq2LVUvGIb"
      },
      "outputs": [],
      "source": [
        "import cv2\n",
        "from google.colab.patches import cv2_imshow\n",
        "import numpy as np\n",
        "\n",
        "\n",
        "def walls(img):\n",
        "\n",
        "  cv2_imshow(img)\n",
        "\n",
        "  hsv_img = cv2.cvtColor(img, cv2.COLOR_BGR2HSV)\n",
        "\n",
        "  white_lower = np.array([0, 0, 0])\n",
        "  white_upper = np.array([216, 18, 82])\n",
        "\n",
        "  mask = cv2.inRange(hsv_img, white_lower, white_upper)\n",
        "\n",
        "  kernel = np.ones((5,5),np.uint8)\n",
        "  mask2 = cv2.morphologyEx(mask, cv2.MORPH_OPEN, kernel)\n",
        "  mask3 = cv2.morphologyEx(mask2, cv2.MORPH_CLOSE, kernel)\n",
        "  masks = np.hstack((mask, mask2, mask3))\n",
        "\n",
        "  # TODO: Hough transformations based on 4 different corner colors.\n",
        "\n",
        "\n",
        "  cv2_imshow(masks)"
      ]
    },
    {
      "cell_type": "code",
      "source": [
        "def ball(img):\n",
        "  cv2_imshow(img)\n",
        "\n",
        "  hsv_img = cv2.cvtColor(img, cv2.COLOR_BGR2HSV)\n",
        "\n",
        "  orange_lower = np.array([4, 100, 100])\n",
        "  orange_upper = np.array([20, 255, 255])\n",
        "\n",
        "  mask = cv2.inRange(hsv_img, orange_lower, orange_upper)\n",
        "\n",
        "  kernel = np.ones((5,5),np.uint8)\n",
        "  mask2 = cv2.morphologyEx(mask, cv2.MORPH_OPEN, kernel)\n",
        "  mask3 = cv2.morphologyEx(mask2, cv2.MORPH_CLOSE, kernel)\n",
        "  masks = np.hstack((mask, mask2, mask3))\n",
        "  cv2_imshow(masks)\n",
        "\n",
        "  contours, hierarchy = cv2.findContours(mask3, cv2.RETR_EXTERNAL, cv2.CHAIN_APPROX_SIMPLE)\n",
        "\n",
        "  try:\n",
        "    area = cv2.contourArea(contours[0])\n",
        "    if area > 30: # Only consider contours with an area greater than 30 pixels\n",
        "        (x,y), radius = cv2.minEnclosingCircle(contours[0])\n",
        "        center = (int(x),int(y))\n",
        "        radius = int(radius)\n",
        "        cv2.circle(img, center, radius, (0,255,0), 2)\n",
        "        print(f\"center: {center}\")\n",
        "  except:\n",
        "    print(\"no contours found!\")\n",
        "\n",
        "  cv2_imshow(img)\n"
      ],
      "metadata": {
        "id": "3JlW4cHhvJtG"
      },
      "execution_count": 4,
      "outputs": []
    },
    {
      "cell_type": "code",
      "source": [
        "if __name__ == \"__main__\":\n",
        "  # control loop\n",
        "  # get the image\n",
        "  camera = cv2.VideoCapture(0)\n",
        "  _, img = camera.read()\n",
        "  #img = cv2.imread('')\n",
        "\n",
        "  ball(img)\n",
        "  walls(img)"
      ],
      "metadata": {
        "id": "Df8XyQBPvnZt"
      },
      "execution_count": null,
      "outputs": []
    },
    {
      "cell_type": "code",
      "source": [],
      "metadata": {
        "id": "zRXSA-lpv7lH"
      },
      "execution_count": null,
      "outputs": []
    }
  ]
}