{
 "cells": [
  {
   "cell_type": "code",
   "execution_count": null,
   "metadata": {
    "id": "Yx3R0SBwBiJB",
    "tags": []
   },
   "outputs": [],
   "source": [
    "import cv2 as cv\n",
    "# from google.colab.patches import cv2_imshow\n",
    "from matplotlib import pyplot as plt\n",
    "import ipywidgets as widgets\n",
    "\n",
    "import numpy as np"
   ]
  },
  {
   "cell_type": "markdown",
   "metadata": {},
   "source": [
    "# Load image, resize and convert"
   ]
  },
  {
   "cell_type": "code",
   "execution_count": null,
   "metadata": {
    "id": "FctJO_IKCFCH",
    "tags": []
   },
   "outputs": [],
   "source": [
    "img = cv.imread('./walls.jpg')\n",
    "img = cv.cvtColor(img, cv.COLOR_BGR2RGB)\n",
    "(img_height, img_width, _) = img.shape\n",
    "img_ratio = 1000 / img_width\n",
    "img = cv.resize(img, (1000, int(img_height * img_ratio)), interpolation=cv.INTER_AREA)\n",
    "print('h: {}, w: {}'.format(int(img_height * img_ratio), 1000))"
   ]
  },
  {
   "cell_type": "code",
   "execution_count": null,
   "metadata": {
    "colab": {
     "base_uri": "https://localhost:8080/",
     "height": 623
    },
    "id": "tohOt1oKCsuK",
    "outputId": "81a8be4d-a39c-4b25-c3d0-01c82e629120",
    "tags": []
   },
   "outputs": [],
   "source": [
    "plt.imshow(img)"
   ]
  },
  {
   "cell_type": "markdown",
   "metadata": {},
   "source": [
    "Convert from rgb to hsv, it's easier to mask it that way"
   ]
  },
  {
   "cell_type": "code",
   "execution_count": null,
   "metadata": {
    "id": "xPJpWNePC9gP",
    "tags": []
   },
   "outputs": [],
   "source": [
    "hsv_img = cv.cvtColor(img, cv.COLOR_RGB2HSV)"
   ]
  },
  {
   "cell_type": "markdown",
   "metadata": {},
   "source": [
    "Plot histograms of color spaces, both rgb and hsv"
   ]
  },
  {
   "cell_type": "code",
   "execution_count": null,
   "metadata": {
    "tags": []
   },
   "outputs": [],
   "source": [
    "for i, col in enumerate(('r', 'g', 'b')):\n",
    "    hist_color_rgb = cv.calcHist([img], [i], None, [256], [0, 256])\n",
    "    plt.plot(hist_color_rgb, color=col)"
   ]
  },
  {
   "cell_type": "code",
   "execution_count": null,
   "metadata": {
    "tags": []
   },
   "outputs": [],
   "source": [
    "for i, col in enumerate(('r', 'g', 'b')):\n",
    "    hist_color_hsv = cv.calcHist([hsv_img], [i], None, [256], [0, 256])\n",
    "    plt.plot(hist_color_hsv, color=col)"
   ]
  },
  {
   "cell_type": "markdown",
   "metadata": {},
   "source": [
    "# Color tweaking\n",
    "\n",
    "Find parameters for extracting the mask (high and low colors for range limits) using sliders and looking for the best match."
   ]
  },
  {
   "cell_type": "code",
   "execution_count": null,
   "metadata": {
    "tags": []
   },
   "outputs": [],
   "source": [
    "sliders_low = [widgets.IntSlider(value=0, min=0, max=180 if desc == 'h' else 255, step=1, description=desc) for desc in ('h', 's', 'v')]\n",
    "sliders_high = [widgets.IntSlider(value=0, min=0, max=180 if desc == 'h' else 255, step=1, description=desc) for desc in ('h', 's', 'v')]\n",
    "vbox = widgets.VBox([\n",
    "    widgets.HBox(sliders_low),\n",
    "    widgets.HBox(sliders_high),\n",
    "])\n",
    "vbox"
   ]
  },
  {
   "cell_type": "markdown",
   "metadata": {},
   "source": [
    "Masking function. It diretly modifies the parameter. There is no need to use the return value"
   ]
  },
  {
   "cell_type": "code",
   "execution_count": null,
   "metadata": {
    "tags": []
   },
   "outputs": [],
   "source": [
    "def masker(mask):\n",
    "    kernel = np.ones((5,5),np.uint8)\n",
    "    mask2 = cv.morphologyEx(mask, cv.MORPH_OPEN, kernel)\n",
    "    mask3 = cv.morphologyEx(mask2, cv.MORPH_CLOSE, kernel)\n",
    "    masks = np.hstack((mask, mask2, mask3))\n",
    "    return masks"
   ]
  },
  {
   "cell_type": "markdown",
   "metadata": {},
   "source": [
    "Function that is called when slider value changes"
   ]
  },
  {
   "cell_type": "code",
   "execution_count": null,
   "metadata": {
    "tags": []
   },
   "outputs": [],
   "source": [
    "def on_hsv_change(_):\n",
    "    _mask = cv.inRange(\n",
    "        hsv_img,\n",
    "        (int(sliders_low[0].value), int(sliders_low[1].value), int(sliders_low[2].value)),\n",
    "        (int(sliders_high[0].value), int(sliders_high[1].value), int(sliders_high[2].value)),\n",
    "    )\n",
    "    masked = masker(_mask)\n",
    "    plt.imshow(_mask)\n",
    "\n",
    "[slider.observe(on_hsv_change) for slider in sliders_low + sliders_high]"
   ]
  },
  {
   "cell_type": "markdown",
   "metadata": {
    "tags": []
   },
   "source": [
    "# Create the mask"
   ]
  },
  {
   "cell_type": "code",
   "execution_count": null,
   "metadata": {
    "tags": []
   },
   "outputs": [],
   "source": [
    "WHITE_LOWER = (100, 0, 200)\n",
    "WHITE_UPPER = (150, 50, 255)\n",
    "\n",
    "BLUE_LOWER = (100, 190, 150)\n",
    "BLUE_UPPER = (110, 255, 220)\n",
    "\n",
    "_mask = cv.inRange(\n",
    "    hsv_img,\n",
    "    BLUE_LOWER,\n",
    "    BLUE_UPPER\n",
    ")"
   ]
  },
  {
   "cell_type": "code",
   "execution_count": null,
   "metadata": {
    "tags": []
   },
   "outputs": [],
   "source": [
    "masked = masker(_mask)"
   ]
  },
  {
   "cell_type": "code",
   "execution_count": null,
   "metadata": {
    "tags": []
   },
   "outputs": [],
   "source": [
    "plt.imshow(_mask)"
   ]
  },
  {
   "cell_type": "markdown",
   "metadata": {},
   "source": [
    "# ROI corner finder\n",
    "\n",
    "Find maze corners in specific regions of interest"
   ]
  },
  {
   "cell_type": "code",
   "execution_count": null,
   "metadata": {
    "tags": []
   },
   "outputs": [],
   "source": [
    "AREA_TOP = (0, 100)\n",
    "AREA_BOTTOM = (350, 450) # based on ratio\n",
    "AREA_LEFT = (250, 350)\n",
    "AREA_RIGHT = (675, 775)\n",
    "\n",
    "ORIGIN_TOP_LEFT = (0, 0)\n",
    "ORIGIN_TOP_RIGHT = (0, 199)\n",
    "ORIGIN_BOTTOM_LEFT = (199, 0)\n",
    "ORIGIN_BOTTOM_RIGHT = (199, 199)\n",
    "\n",
    "def roi_corner(mask, area_x, area_y, origin):\n",
    "    roi_mask = mask[area_y[0]:area_y[1], area_x[0]:area_x[1]]\n",
    "    roi_mask = np.float32(roi_mask)\n",
    "    roi_corners = cv.cornerHarris(roi_mask, blockSize=3, ksize=3, k=0.05)\n",
    "    \n",
    "    roi_points = np.argwhere(roi_corners > 0.025 * roi_corners.max())\n",
    "\n",
    "    roi_distances = np.array([np.linalg.norm(origin - p) for p in roi_points])\n",
    "    roi_index = np.argmin(roi_distances)\n",
    "    roi_point = roi_points[roi_index]\n",
    "\n",
    "    return (roi_point[1] + area_x[0], roi_point[0] + area_y[0])"
   ]
  },
  {
   "cell_type": "markdown",
   "metadata": {},
   "source": [
    "Plot corners to a new image"
   ]
  },
  {
   "cell_type": "code",
   "execution_count": null,
   "metadata": {
    "tags": []
   },
   "outputs": [],
   "source": [
    "img_dbg = img.copy()"
   ]
  },
  {
   "cell_type": "code",
   "execution_count": null,
   "metadata": {
    "tags": []
   },
   "outputs": [],
   "source": [
    "top_left_corner = roi_corner(_mask, AREA_LEFT, AREA_TOP, ORIGIN_TOP_LEFT)\n",
    "print(top_left_corner)\n",
    "img_dbg[top_left_corner[1]-10:top_left_corner[1]+10, top_left_corner[0]-10:top_left_corner[0]+10] = [255, 0, 0]"
   ]
  },
  {
   "cell_type": "code",
   "execution_count": null,
   "metadata": {
    "tags": []
   },
   "outputs": [],
   "source": [
    "top_right_corner = roi_corner(_mask, AREA_RIGHT, AREA_TOP, ORIGIN_TOP_RIGHT)\n",
    "img_dbg[top_right_corner[1]-10:top_right_corner[1]+10, top_right_corner[0]-10:top_right_corner[0]+10] = [0, 255, 0]"
   ]
  },
  {
   "cell_type": "code",
   "execution_count": null,
   "metadata": {
    "tags": []
   },
   "outputs": [],
   "source": [
    "bottom_left_corner = roi_corner(_mask, AREA_LEFT, AREA_BOTTOM, ORIGIN_BOTTOM_LEFT)\n",
    "img_dbg[bottom_left_corner[1]-10:bottom_left_corner[1]+10, bottom_left_corner[0]-10:bottom_left_corner[0]+10] = [0, 0, 255]"
   ]
  },
  {
   "cell_type": "code",
   "execution_count": null,
   "metadata": {
    "tags": []
   },
   "outputs": [],
   "source": [
    "bottom_right_corner = roi_corner(_mask, AREA_RIGHT, AREA_BOTTOM, ORIGIN_BOTTOM_RIGHT)\n",
    "img_dbg[bottom_right_corner[1]-10:bottom_right_corner[1]+10, bottom_right_corner[0]-10:bottom_right_corner[0]+10] = [0, 255, 255]"
   ]
  },
  {
   "cell_type": "code",
   "execution_count": null,
   "metadata": {
    "tags": []
   },
   "outputs": [],
   "source": [
    "plt.imshow(img_dbg)"
   ]
  },
  {
   "cell_type": "markdown",
   "metadata": {},
   "source": [
    "# Fix perspective"
   ]
  },
  {
   "cell_type": "code",
   "execution_count": null,
   "metadata": {
    "tags": []
   },
   "outputs": [],
   "source": [
    "old_perspective_points = np.float32([\n",
    "    np.array(top_left_corner),\n",
    "    np.array(bottom_left_corner),\n",
    "    np.array(top_right_corner),\n",
    "    np.array(bottom_right_corner)\n",
    "])\n",
    "new_perspective_points = np.float32([[0, 0], [0, 300], [300, 0], [300, 300]])\n",
    "print(old_perspective_points)\n",
    "print(new_perspective_points)"
   ]
  },
  {
   "cell_type": "code",
   "execution_count": null,
   "metadata": {
    "tags": []
   },
   "outputs": [],
   "source": [
    "perspective_matrix = cv.getPerspectiveTransform(old_perspective_points, new_perspective_points)"
   ]
  },
  {
   "cell_type": "code",
   "execution_count": null,
   "metadata": {
    "tags": []
   },
   "outputs": [],
   "source": [
    "height, width = img.shape[:2]\n",
    "fixed_perspective_img = cv.warpPerspective(img, perspective_matrix, (300, 300))"
   ]
  },
  {
   "cell_type": "code",
   "execution_count": null,
   "metadata": {
    "tags": []
   },
   "outputs": [],
   "source": [
    "plt.imshow(fixed_perspective_img)"
   ]
  }
 ],
 "metadata": {
  "colab": {
   "provenance": []
  },
  "kernelspec": {
   "display_name": "Python 3 (ipykernel)",
   "language": "python",
   "name": "python3"
  },
  "language_info": {
   "codemirror_mode": {
    "name": "ipython",
    "version": 3
   },
   "file_extension": ".py",
   "mimetype": "text/x-python",
   "name": "python",
   "nbconvert_exporter": "python",
   "pygments_lexer": "ipython3",
   "version": "3.10.10"
  }
 },
 "nbformat": 4,
 "nbformat_minor": 4
}
