{
 "cells": [
  {
   "cell_type": "code",
   "execution_count": null,
   "metadata": {
    "id": "Yx3R0SBwBiJB",
    "tags": []
   },
   "outputs": [],
   "source": [
    "import cv2 as cv\n",
    "# from google.colab.patches import cv2_imshow\n",
    "from matplotlib import pyplot as plt\n",
    "import ipywidgets as widgets\n",
    "\n",
    "import numpy as np"
   ]
  },
  {
   "cell_type": "code",
   "execution_count": null,
   "metadata": {
    "id": "FctJO_IKCFCH",
    "tags": []
   },
   "outputs": [],
   "source": [
    "img = cv.imread('./lab_01.jpg')\n",
    "img = cv.cvtColor(img, cv.COLOR_BGR2RGB)\n",
    "(img_height, img_width, _) = img.shape\n",
    "img_ratio = 1000 / img_width\n",
    "img = cv.resize(img, (1000, int(img_height * img_ratio)), interpolation=cv.INTER_AREA)"
   ]
  },
  {
   "cell_type": "code",
   "execution_count": null,
   "metadata": {
    "colab": {
     "base_uri": "https://localhost:8080/",
     "height": 623
    },
    "id": "tohOt1oKCsuK",
    "outputId": "81a8be4d-a39c-4b25-c3d0-01c82e629120",
    "tags": []
   },
   "outputs": [],
   "source": [
    "plt.imshow(img)"
   ]
  },
  {
   "cell_type": "code",
   "execution_count": null,
   "metadata": {
    "id": "xPJpWNePC9gP",
    "tags": []
   },
   "outputs": [],
   "source": [
    "hsv_img = cv.cvtColor(img, cv.COLOR_RGB2HSV)"
   ]
  },
  {
   "cell_type": "code",
   "execution_count": null,
   "metadata": {
    "tags": []
   },
   "outputs": [],
   "source": [
    "h_img, s_img, v_img = hsv_img[:,:,0], hsv_img[:,:,1], hsv_img[:,:,2]"
   ]
  },
  {
   "cell_type": "code",
   "execution_count": null,
   "metadata": {
    "tags": []
   },
   "outputs": [],
   "source": [
    "plt.imshow(h_img)\n",
    "plt.colorbar()"
   ]
  },
  {
   "cell_type": "code",
   "execution_count": null,
   "metadata": {
    "tags": []
   },
   "outputs": [],
   "source": [
    "plt.imshow(s_img)\n",
    "plt.colorbar()"
   ]
  },
  {
   "cell_type": "code",
   "execution_count": null,
   "metadata": {
    "tags": []
   },
   "outputs": [],
   "source": [
    "plt.imshow(v_img)\n",
    "plt.colorbar()"
   ]
  },
  {
   "cell_type": "code",
   "execution_count": null,
   "metadata": {
    "tags": []
   },
   "outputs": [],
   "source": [
    "slider_lower = widgets.IntSlider(description='Lower', min=0, max=255, step=1)\n",
    "slider_upper = widgets.IntSlider(description='Upper', min=0, max=255, step=1)\n",
    "display(widgets.VBox([slider_lower, slider_upper]))"
   ]
  },
  {
   "cell_type": "code",
   "execution_count": null,
   "metadata": {
    "tags": []
   },
   "outputs": [],
   "source": [
    "def masker(mask):\n",
    "    kernel = np.ones((5,5),np.uint8)\n",
    "    mask2 = cv.morphologyEx(mask, cv.MORPH_OPEN, kernel)\n",
    "    mask3 = cv.morphologyEx(mask2, cv.MORPH_CLOSE, kernel)\n",
    "    masks = np.hstack((mask, mask2, mask3))\n",
    "    return masks"
   ]
  },
  {
   "cell_type": "code",
   "execution_count": null,
   "metadata": {
    "tags": []
   },
   "outputs": [],
   "source": [
    "def on_slider_change(_):\n",
    "    mask = cv.inRange(hsv_img, (0, 0, slider_lower.value), (0, 0, slider_upper.value))\n",
    "    masker(mask)\n",
    "    #print(slider_lower.value, slider_upper.value)"
   ]
  },
  {
   "cell_type": "code",
   "execution_count": null,
   "metadata": {
    "tags": []
   },
   "outputs": [],
   "source": [
    "slider_lower.observe(on_slider_change, 'value')\n",
    "slider_upper.observe(on_slider_change, 'value')"
   ]
  },
  {
   "cell_type": "code",
   "execution_count": null,
   "metadata": {
    "tags": []
   },
   "outputs": [],
   "source": [
    "_mask = cv.inRange(\n",
    "    hsv_img,\n",
    "    (100, 0, 200),\n",
    "    (150, 50, 255)\n",
    ")"
   ]
  },
  {
   "cell_type": "code",
   "execution_count": null,
   "metadata": {
    "tags": []
   },
   "outputs": [],
   "source": [
    "masked = masker(_mask)"
   ]
  },
  {
   "cell_type": "code",
   "execution_count": null,
   "metadata": {
    "tags": []
   },
   "outputs": [],
   "source": [
    "plt.imshow(_mask)"
   ]
  },
  {
   "cell_type": "code",
   "execution_count": null,
   "metadata": {
    "tags": []
   },
   "outputs": [],
   "source": [
    "blur_mask = cv.dilate(_mask, (15, 15), iterations=10)\n",
    "#blur_mask = cv.blur(blur_mask, (15, 15))\n",
    "plt.imshow(blur_mask)"
   ]
  },
  {
   "cell_type": "code",
   "execution_count": null,
   "metadata": {
    "tags": []
   },
   "outputs": [],
   "source": [
    "ORIGIN_TOP_LEFT = (0, 0)\n",
    "ORIGIN_BOTTOM_LEFT = (199, 0)\n",
    "\n",
    "def roi_corner(mask, area_x, area_y, origin):\n",
    "    roi_mask = mask[area_x[0]:area_x[1], area_y[0]:area_y[1]]\n",
    "    roi_mask = np.float32(roi_mask)\n",
    "    roi_corners = cv.cornerHarris(roi_mask, blockSize=3, ksize=3, k=0.05)\n",
    "    \n",
    "    roi_points = np.argwhere(roi_corners > 0.025 * roi_corners.max())\n",
    "\n",
    "    roi_distances = np.array([np.linalg.norm(origin - p) for p in roi_points])\n",
    "    roi_index = np.argmin(roi_distances)\n",
    "    roi_point = roi_points[roi_index]\n",
    "\n",
    "    return (roi_point[0] + area_x[0], roi_point[1] + area_y[1])"
   ]
  },
  {
   "cell_type": "code",
   "execution_count": null,
   "metadata": {
    "tags": []
   },
   "outputs": [],
   "source": [
    "roi_corner(_mask, (0, 200), (200, 400), ORIGIN_BOTTOM_LEFT)"
   ]
  },
  {
   "cell_type": "code",
   "execution_count": null,
   "metadata": {
    "tags": []
   },
   "outputs": [],
   "source": [
    "top_left_mask = blur_mask[0:200, 200:400]\n",
    "plt.imshow(top_left_mask)\n",
    "top_left_mask = np.float32(top_left_mask)\n",
    "top_left_corners = cv.cornerHarris(top_left_mask, blockSize=3, ksize=3, k=0.05)"
   ]
  },
  {
   "cell_type": "code",
   "execution_count": null,
   "metadata": {
    "tags": []
   },
   "outputs": [],
   "source": [
    "top_left_point = np.argwhere(top_left_corners > 0.025 * top_left_corners.max())[0]\n",
    "\n",
    "print(top_left_point)\n",
    "\n",
    "top_left_img = img[0:200, 200:400]\n",
    "top_left_img[top_left_point[0], top_left_point[1]] = [255, 0, 0]\n",
    "\n",
    "plt.imshow(top_left_img)"
   ]
  },
  {
   "cell_type": "code",
   "execution_count": null,
   "metadata": {
    "tags": []
   },
   "outputs": [],
   "source": [
    "bottom_left_mask = _mask[400:600, 200:400]\n",
    "plt.imshow(bottom_left_mask)\n",
    "bottom_left_mask = np.float32(bottom_left_mask)\n",
    "bottom_left_corners = cv.cornerHarris(bottom_left_mask, blockSize=3, ksize=3, k=0.05)"
   ]
  },
  {
   "cell_type": "code",
   "execution_count": null,
   "metadata": {
    "tags": []
   },
   "outputs": [],
   "source": [
    "bottom_left_point = np.argwhere(bottom_left_corners > 0.025 * bottom_left_corners.max())\n",
    "\n",
    "bottom_left_distances = np.array([np.linalg.norm((199, 0) - p) for p in bottom_left_point])\n",
    "bottom_left_index = np.argmin(bottom_left_distances)\n",
    "bottom_left_tacka = bottom_left_point[bottom_left_index]\n",
    "\n",
    "bottom_left_point_swap = np.swapaxes(bottom_left_point, 0, 1)\n",
    "\n",
    "bottom_left_img = img[400:600, 200:400]\n",
    "bottom_left_img[bottom_left_tacka[0], bottom_left_tacka[1]] = [255, 0, 0]\n",
    "\n",
    "plt.imshow(bottom_left_img)"
   ]
  },
  {
   "cell_type": "code",
   "execution_count": null,
   "metadata": {
    "tags": []
   },
   "outputs": [],
   "source": [
    "float_mask = np.float32(blur_mask)\n",
    "corners = cv.cornerHarris(float_mask, blockSize=3, ksize=3, k=0.05)"
   ]
  },
  {
   "cell_type": "code",
   "execution_count": null,
   "metadata": {
    "tags": []
   },
   "outputs": [],
   "source": [
    "kernel = np.ones((7,7), np.uint8)\n",
    "corners_dilated = cv.dilate(corners, kernel, iterations= 2)\n",
    "\n",
    "img[corners_dilated > 0.025 * corners_dilated.max()] = [255, 0, 0]\n",
    "\n",
    "plt.imshow(img)"
   ]
  }
 ],
 "metadata": {
  "colab": {
   "provenance": []
  },
  "kernelspec": {
   "display_name": "Python 3 (ipykernel)",
   "language": "python",
   "name": "python3"
  },
  "language_info": {
   "codemirror_mode": {
    "name": "ipython",
    "version": 3
   },
   "file_extension": ".py",
   "mimetype": "text/x-python",
   "name": "python",
   "nbconvert_exporter": "python",
   "pygments_lexer": "ipython3",
   "version": "3.10.10"
  }
 },
 "nbformat": 4,
 "nbformat_minor": 4
}
