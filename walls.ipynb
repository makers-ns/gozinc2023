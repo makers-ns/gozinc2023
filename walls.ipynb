{
 "cells": [
  {
   "cell_type": "code",
   "execution_count": null,
   "metadata": {
    "id": "Yx3R0SBwBiJB",
    "tags": []
   },
   "outputs": [],
   "source": [
    "import cv2 as cv\n",
    "# from google.colab.patches import cv2_imshow\n",
    "from matplotlib import pyplot as plt\n",
    "import ipywidgets as widgets\n",
    "\n",
    "import numpy as np"
   ]
  },
  {
   "cell_type": "code",
   "execution_count": null,
   "metadata": {
    "id": "FctJO_IKCFCH",
    "tags": []
   },
   "outputs": [],
   "source": [
    "img = cv.imread('./lab_01.jpg')\n",
    "img = cv.cvtColor(img, cv.COLOR_BGR2RGB)\n",
    "(img_height, img_width, _) = img.shape\n",
    "img_ratio = 1000 / img_width\n",
    "img = cv.resize(img, (1000, int(img_height * img_ratio)), interpolation=cv.INTER_AREA)"
   ]
  },
  {
   "cell_type": "code",
   "execution_count": null,
   "metadata": {
    "colab": {
     "base_uri": "https://localhost:8080/",
     "height": 623
    },
    "id": "tohOt1oKCsuK",
    "outputId": "81a8be4d-a39c-4b25-c3d0-01c82e629120",
    "tags": []
   },
   "outputs": [],
   "source": [
    "plt.imshow(img)"
   ]
  },
  {
   "cell_type": "code",
   "execution_count": null,
   "metadata": {
    "id": "xPJpWNePC9gP",
    "tags": []
   },
   "outputs": [],
   "source": [
    "hsv_img = cv.cvtColor(img, cv.COLOR_RGB2HSV)"
   ]
  },
  {
   "cell_type": "code",
   "execution_count": null,
   "metadata": {
    "tags": []
   },
   "outputs": [],
   "source": [
    "def masker(mask):\n",
    "    kernel = np.ones((5,5),np.uint8)\n",
    "    mask2 = cv.morphologyEx(mask, cv.MORPH_OPEN, kernel)\n",
    "    mask3 = cv.morphologyEx(mask2, cv.MORPH_CLOSE, kernel)\n",
    "    masks = np.hstack((mask, mask2, mask3))\n",
    "    return masks"
   ]
  },
  {
   "cell_type": "code",
   "execution_count": null,
   "metadata": {
    "tags": []
   },
   "outputs": [],
   "source": [
    "_mask = cv.inRange(\n",
    "    hsv_img,\n",
    "    (100, 0, 200),\n",
    "    (150, 50, 255)\n",
    ")"
   ]
  },
  {
   "cell_type": "code",
   "execution_count": null,
   "metadata": {
    "tags": []
   },
   "outputs": [],
   "source": [
    "masked = masker(_mask)"
   ]
  },
  {
   "cell_type": "code",
   "execution_count": null,
   "metadata": {
    "tags": []
   },
   "outputs": [],
   "source": [
    "plt.imshow(_mask)"
   ]
  },
  {
   "cell_type": "code",
   "execution_count": null,
   "metadata": {
    "tags": []
   },
   "outputs": [],
   "source": [
    "AREA_TOP = (0, 100)\n",
    "AREA_BOTTOM = (350, 450) # based on ratio\n",
    "AREA_LEFT = (200, 300)\n",
    "AREA_RIGHT = (550, 650)\n",
    "\n",
    "ORIGIN_TOP_LEFT = (0, 0)\n",
    "ORIGIN_TOP_RIGHT = (0, 199)\n",
    "ORIGIN_BOTTOM_LEFT = (199, 0)\n",
    "ORIGIN_BOTTOM_RIGHT = (199, 199)\n",
    "\n",
    "def roi_corner(mask, area_x, area_y, origin):\n",
    "    roi_mask = mask[area_x[0]:area_x[1], area_y[0]:area_y[1]]\n",
    "    roi_mask = np.float32(roi_mask)\n",
    "    roi_corners = cv.cornerHarris(roi_mask, blockSize=3, ksize=3, k=0.05)\n",
    "    \n",
    "    roi_points = np.argwhere(roi_corners > 0.025 * roi_corners.max())\n",
    "\n",
    "    roi_distances = np.array([np.linalg.norm(origin - p) for p in roi_points])\n",
    "    roi_index = np.argmin(roi_distances)\n",
    "    roi_point = roi_points[roi_index]\n",
    "\n",
    "    return (roi_point[0] + area_x[0], roi_point[1] + area_y[0])"
   ]
  },
  {
   "cell_type": "code",
   "execution_count": null,
   "metadata": {
    "tags": []
   },
   "outputs": [],
   "source": [
    "top_left_corner = roi_corner(_mask, AREA_TOP, AREA_LEFT, ORIGIN_TOP_LEFT)\n",
    "img[top_left_corner[0]-10:top_left_corner[0]+10, top_left_corner[1]-10:top_left_corner[1]+10] = [255, 0, 0]"
   ]
  },
  {
   "cell_type": "code",
   "execution_count": null,
   "metadata": {
    "tags": []
   },
   "outputs": [],
   "source": [
    "top_right_corner = roi_corner(_mask, AREA_TOP, AREA_RIGHT, ORIGIN_TOP_RIGHT)\n",
    "img[top_right_corner[0]-10:top_right_corner[0]+10, top_right_corner[1]-10:top_right_corner[1]+10] = [255, 0, 0]"
   ]
  },
  {
   "cell_type": "code",
   "execution_count": null,
   "metadata": {
    "tags": []
   },
   "outputs": [],
   "source": [
    "bottom_left_corner = roi_corner(_mask, AREA_BOTTOM, AREA_LEFT, ORIGIN_BOTTOM_LEFT)\n",
    "img[bottom_left_corner[0]-10:bottom_left_corner[0]+10, bottom_left_corner[1]-10:bottom_left_corner[1]+10] = [255, 0, 0]"
   ]
  },
  {
   "cell_type": "code",
   "execution_count": null,
   "metadata": {
    "tags": []
   },
   "outputs": [],
   "source": [
    "bottom_right_corner = roi_corner(_mask, AREA_BOTTOM, AREA_RIGHT, ORIGIN_BOTTOM_RIGHT)\n",
    "img[bottom_right_corner[0]-10:bottom_right_corner[0]+10, bottom_right_corner[1]-10:bottom_right_corner[1]+10] = [255, 0, 0]"
   ]
  },
  {
   "cell_type": "code",
   "execution_count": null,
   "metadata": {
    "tags": []
   },
   "outputs": [],
   "source": [
    "plt.imshow(img)"
   ]
  },
  {
   "cell_type": "code",
   "execution_count": null,
   "metadata": {
    "tags": []
   },
   "outputs": [],
   "source": [
    "old_perspective_points = np.float32([top_left_corner, bottom_left_corner, top_right_corner, bottom_right_corner])\n",
    "new_perspective_points = np.float32([[0, 0], [300, 0], [0, 300], [300, 300]])"
   ]
  },
  {
   "cell_type": "code",
   "execution_count": null,
   "metadata": {
    "tags": []
   },
   "outputs": [],
   "source": [
    "perspective_matrix = cv.getPerspectiveTransform(old_perspective_points, new_perspective_points)"
   ]
  },
  {
   "cell_type": "code",
   "execution_count": null,
   "metadata": {
    "tags": []
   },
   "outputs": [],
   "source": [
    "height, width = img.shape[:2]\n",
    "fixed_perspective_img = cv.warpPerspective(img, perspective_matrix, (300, 300))"
   ]
  },
  {
   "cell_type": "code",
   "execution_count": null,
   "metadata": {
    "tags": []
   },
   "outputs": [],
   "source": [
    "plt.imshow(fixed_perspective_img)"
   ]
  }
 ],
 "metadata": {
  "colab": {
   "provenance": []
  },
  "kernelspec": {
   "display_name": "Python 3 (ipykernel)",
   "language": "python",
   "name": "python3"
  },
  "language_info": {
   "codemirror_mode": {
    "name": "ipython",
    "version": 3
   },
   "file_extension": ".py",
   "mimetype": "text/x-python",
   "name": "python",
   "nbconvert_exporter": "python",
   "pygments_lexer": "ipython3",
   "version": "3.10.10"
  }
 },
 "nbformat": 4,
 "nbformat_minor": 4
}
